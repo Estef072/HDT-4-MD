{
 "cells": [
  {
   "cell_type": "code",
   "execution_count": 7,
   "id": "43822b36",
   "metadata": {},
   "outputs": [],
   "source": [
    "import numpy as np\n",
    "import pandas as pd\n",
    "from sklearn.model_selection import train_test_split\n",
    "import seaborn as sns\n",
    "from sklearn.tree import DecisionTreeClassifier\n",
    "from sklearn.model_selection import train_test_split\n",
    "from sklearn.metrics import accuracy_score\n",
    "from sklearn.metrics import confusion_matrix, accuracy_score, precision_score, recall_score, f1_score\n",
    "from sklearn.tree import plot_tree\n",
    "from sklearn.impute import SimpleImputer\n",
    "from sklearn.metrics import accuracy_score\n",
    "from sklearn.model_selection import cross_val_score\n",
    "import matplotlib.pyplot as plt\n",
    "from sklearn.ensemble import RandomForestRegressor\n",
    "from sklearn.metrics import mean_squared_error\n",
    "from sklearn.metrics import r2_score as r2\n",
    "from sklearn.preprocessing import LabelEncoder\n",
    "# Cargar archivo csv\n",
    "df = pd.read_csv(\"train.csv\", encoding=\"latin1\")\n"
   ]
  },
  {
   "cell_type": "code",
   "execution_count": 8,
   "id": "6bfce411",
   "metadata": {},
   "outputs": [],
   "source": [
    "# Seleccionar solo las variables numéricas relevantes\n",
    "numericas = df.select_dtypes(include='number')\n",
    "numericas = numericas.drop([\"Fireplaces\", \"GarageYrBlt\", \"Id\", \"MSSubClass\", \"WoodDeckSF\", \"OpenPorchSF\", \"EnclosedPorch\", \"3SsnPorch\", \"ScreenPorch\", \"MoSold\", \"YrSold\"], axis=1)"
   ]
  },
  {
   "cell_type": "code",
   "execution_count": 9,
   "id": "e944ddc5",
   "metadata": {},
   "outputs": [],
   "source": [
    "# Crear variable respuesta que clasifica las casas en Económicas, Intermedias o Caras\n",
    "terciles = np.percentile(numericas[\"SalePrice\"], [33.33, 66.67])\n",
    "limite_economicas = terciles[0]\n",
    "limite_caras = terciles[1]\n",
    "numericas[\"Clase\"] = pd.cut(numericas[\"SalePrice\"], bins=[0, limite_economicas, limite_caras, float(\"inf\")], labels=[\"Económicas\", \"Intermedias\", \"Caras\"])"
   ]
  },
  {
   "cell_type": "code",
   "execution_count": 10,
   "id": "52c6b45d",
   "metadata": {},
   "outputs": [],
   "source": [
    "# Dividir en conjunto de entrenamiento y prueba\n",
    "X = numericas.drop([\"SalePrice\", \"Clase\"], axis=1)\n",
    "Y = numericas[\"Clase\"]\n",
    "X_train, X_test, y_train, y_test = train_test_split(X, Y, test_size=0.3, train_size=0.7)\n",
    "\n",
    "# Imputar valores faltantes utilizando la media de cada columna\n",
    "imputer = SimpleImputer(strategy=\"mean\")\n",
    "X_train = imputer.fit_transform(X_train)\n",
    "X_test = imputer.transform(X_test)\n",
    "\n",
    "# Crear modelo de árbol de clasificación\n",
    "arbol = DecisionTreeClassifier(random_state=0)\n",
    "\n",
    "# Entrenar modelo\n",
    "arbol.fit(X_train, y_train)\n",
    "\n",
    "# Predecir valores para conjunto de prueba\n",
    "y_pred = arbol.predict(X_test)\n",
    "\n",
    "# Evaluar precisión del modelo\n",
    "precision = accuracy_score(y_test, y_pred)"
   ]
  },
  {
   "cell_type": "code",
   "execution_count": 11,
   "id": "97229c2a",
   "metadata": {},
   "outputs": [],
   "source": [
    "# Predecir etiquetas para conjunto de prueba\n",
    "y_pred = arbol.predict(X_test)\n",
    "\n",
    "# Calcular precisión del modelo\n",
    "precision = accuracy_score(y_test, y_pred)"
   ]
  },
  {
   "cell_type": "markdown",
   "id": "c7afb120",
   "metadata": {},
   "source": [
    "### Inciso 9\n",
    "Haga un análisis de la eficiencia del algoritmo usando una matriz de confusión para el árbol\n",
    "de clasificación. Tenga en cuenta la efectividad, donde el algoritmo se equivocó más, donde\n",
    "se equivocó menos y la importancia que tienen los errores.\n"
   ]
  },
  {
   "cell_type": "code",
   "execution_count": 12,
   "id": "cde0077e",
   "metadata": {},
   "outputs": [],
   "source": [
    "# Creamos la matriz de confusion\n",
    "cm = confusion_matrix(y_test, y_pred)"
   ]
  },
  {
   "cell_type": "code",
   "execution_count": 13,
   "id": "07b04b55",
   "metadata": {},
   "outputs": [
    {
     "name": "stdout",
     "output_type": "stream",
     "text": [
      "Matriz de confusión:\n",
      "[[118   4  27]\n",
      " [  1 113  33]\n",
      " [ 14  25 103]]\n"
     ]
    }
   ],
   "source": [
    "# Imprimimos la matriz de confusión\n",
    "print(\"Matriz de confusión:\")\n",
    "print(cm)"
   ]
  },
  {
   "cell_type": "code",
   "execution_count": 14,
   "id": "1f1ae9a2",
   "metadata": {},
   "outputs": [],
   "source": [
    "# Calculamos algunas métricas de evaluación\n",
    "accuracy = accuracy_score(y_test, y_pred)\n",
    "precision = precision_score(y_test, y_pred, average='weighted')\n",
    "recall = recall_score(y_test, y_pred, average='weighted')\n",
    "f1 = f1_score(y_test, y_pred, average='weighted')"
   ]
  },
  {
   "cell_type": "code",
   "execution_count": 15,
   "id": "20294ebe",
   "metadata": {},
   "outputs": [
    {
     "name": "stdout",
     "output_type": "stream",
     "text": [
      "Exactitud: 0.76\n",
      "Precisión: 0.77\n",
      "Sensibilidad: 0.76\n",
      "Puntuación F1: 0.77\n"
     ]
    }
   ],
   "source": [
    "# Imprimimos las métricas de evaluación\n",
    "print(\"Exactitud: {:.2f}\".format(accuracy))\n",
    "print(\"Precisión: {:.2f}\".format(precision))\n",
    "print(\"Sensibilidad: {:.2f}\".format(recall))\n",
    "print(\"Puntuación F1: {:.2f}\".format(f1))"
   ]
  },
  {
   "cell_type": "markdown",
   "id": "b794f7ef",
   "metadata": {},
   "source": [
    "### Inciso 10\n",
    "Entrene un modelo usando validación cruzada, prediga con él. ¿le fue mejor que al modelo anterior?"
   ]
  },
  {
   "cell_type": "code",
   "execution_count": 16,
   "id": "d659cf9f",
   "metadata": {},
   "outputs": [],
   "source": [
    "# Dividir en conjunto de entrenamiento y prueba\n",
    "X = numericas.drop([\"SalePrice\", \"Clase\"], axis=1).fillna(0)\n",
    "y = numericas[\"Clase\"]"
   ]
  },
  {
   "cell_type": "code",
   "execution_count": 17,
   "id": "b9372d4d",
   "metadata": {},
   "outputs": [],
   "source": [
    "X_train, X_test, y_train, y_test = train_test_split(X, Y, test_size=0.3, train_size=0.7)"
   ]
  },
  {
   "cell_type": "code",
   "execution_count": 18,
   "id": "8eabdd96",
   "metadata": {},
   "outputs": [],
   "source": [
    "# Creamos un clasificador de árbol de decisión\n",
    "clf = DecisionTreeClassifier()"
   ]
  },
  {
   "cell_type": "code",
   "execution_count": 19,
   "id": "638deeb6",
   "metadata": {},
   "outputs": [],
   "source": [
    "# Realizamos la validación cruzada\n",
    "scores = cross_val_score(clf, X, y, cv=5, error_score='raise')"
   ]
  },
  {
   "cell_type": "code",
   "execution_count": 20,
   "id": "e5cd68a8",
   "metadata": {},
   "outputs": [
    {
     "name": "stdout",
     "output_type": "stream",
     "text": [
      "Precisión de cada pliegue: [0.7739726  0.74315068 0.80821918 0.74315068 0.75342466]\n",
      "Precisión promedio: 0.76\n"
     ]
    }
   ],
   "source": [
    "# Imprimimos la puntuación de precisión para cada pliegue\n",
    "print(\"Precisión de cada pliegue: {}\".format(scores))\n",
    "print(\"Precisión promedio: {:.2f}\".format(np.mean(scores)))"
   ]
  },
  {
   "cell_type": "code",
   "execution_count": 21,
   "id": "f4d4d4b9",
   "metadata": {},
   "outputs": [],
   "source": [
    "# Entrenamos el clasificador con los datos de entrenamiento\n",
    "clf.fit(X_train, y_train)\n",
    "\n",
    "# Hacemos predicciones sobre los datos de prueba\n",
    "y_pred = clf.predict(X_test)"
   ]
  },
  {
   "cell_type": "code",
   "execution_count": 22,
   "id": "f384fa4f",
   "metadata": {},
   "outputs": [
    {
     "name": "stdout",
     "output_type": "stream",
     "text": [
      "Matriz de confusión:\n",
      "[[142   4  19]\n",
      " [  1 116  25]\n",
      " [ 21  24  86]]\n"
     ]
    }
   ],
   "source": [
    "# Imprimimos la matriz de confusión\n",
    "cm = confusion_matrix(y_test, y_pred)\n",
    "print(\"Matriz de confusión:\")\n",
    "print(cm)"
   ]
  },
  {
   "cell_type": "code",
   "execution_count": 23,
   "id": "99bcdb5d",
   "metadata": {},
   "outputs": [],
   "source": [
    "# Calculamos algunas métricas de evaluación\n",
    "accuracy = accuracy_score(y_test, y_pred)\n",
    "precision = precision_score(y_test, y_pred, average='weighted')\n",
    "recall = recall_score(y_test, y_pred, average='weighted')\n",
    "f1 = f1_score(y_test, y_pred, average='weighted')"
   ]
  },
  {
   "cell_type": "code",
   "execution_count": 24,
   "id": "06b19eee",
   "metadata": {},
   "outputs": [
    {
     "name": "stdout",
     "output_type": "stream",
     "text": [
      "Analisis;\n",
      "------------------------------------\n",
      "Exactitud: 0.79\n",
      "Precisión: 0.79\n",
      "Sensibilidad: 0.79\n",
      "Puntuación F1: 0.79\n"
     ]
    }
   ],
   "source": [
    "# Imprimimos las métricas de evaluación\n",
    "print(\"Analisis;\")\n",
    "print(\"------------------------------------\")\n",
    "print(\"Exactitud: {:.2f}\".format(accuracy))\n",
    "print(\"Precisión: {:.2f}\".format(precision))\n",
    "print(\"Sensibilidad: {:.2f}\".format(recall))\n",
    "print(\"Puntuación F1: {:.2f}\".format(f1))"
   ]
  },
  {
   "cell_type": "markdown",
   "id": "8511af82",
   "metadata": {},
   "source": [
    "### Inciso 11\n",
    "Haga al menos, 3 modelos más cambiando la profundidad del árbol. ¿Cuál funcionó mejor?"
   ]
  },
  {
   "cell_type": "code",
   "execution_count": 25,
   "id": "86beb768",
   "metadata": {},
   "outputs": [
    {
     "name": "stdout",
     "output_type": "stream",
     "text": [
      "Profundidad:  6\n",
      "Precisión de cada pliegue: [0.77459016 0.77868852 0.78600823 0.77366255 0.75308642 0.75308642]\n",
      "Precisión promedio: 0.77\n",
      "Exactitud: 0.77\n",
      "Precisión: 0.79\n",
      "Sensibilidad: 0.77\n",
      "Puntuación F1: 0.78\n",
      "--------------------------------------\n",
      "Profundidad:  8\n",
      "Precisión de cada pliegue: [0.7704918  0.84153005 0.75956284 0.78142077 0.8021978  0.73626374\n",
      " 0.79120879 0.78021978]\n",
      "Precisión promedio: 0.78\n",
      "Exactitud: 0.79\n",
      "Precisión: 0.79\n",
      "Sensibilidad: 0.79\n",
      "Puntuación F1: 0.79\n",
      "--------------------------------------\n",
      "Profundidad:  10\n",
      "Precisión de cada pliegue: [0.74657534 0.81506849 0.76027397 0.7739726  0.78767123 0.81506849\n",
      " 0.7260274  0.80821918 0.69178082 0.7260274 ]\n",
      "Precisión promedio: 0.77\n",
      "Exactitud: 0.78\n",
      "Precisión: 0.78\n",
      "Sensibilidad: 0.78\n",
      "Puntuación F1: 0.78\n",
      "--------------------------------------\n"
     ]
    }
   ],
   "source": [
    "depths = [6, 8, 10]\n",
    "'''\n",
    "Si cambia el valor de max_depth, es posible que se deba ajustar el \n",
    "número de pliegues (cv) en la validación cruzada. La elección del \n",
    "valor de cv puede depender de varios factores, incluyendo la cantidad \n",
    "de datos disponibles, la complejidad del modelo y la cantidad de \n",
    "recursos de cómputo disponibles.\n",
    "En general, se recomienda utilizar entre 5 y 10 pliegues en la validación cruzada\n",
    "para la mayoría de los conjuntos de datos.\n",
    "\n",
    "'''\n",
    "for i in depths:\n",
    "    print(\"Profundidad: \", i)\n",
    "    # Creamos un clasificador de árbol de decisión\n",
    "    clf = DecisionTreeClassifier(max_depth=i)\n",
    "    # Realizamos la validación cruzada\n",
    "    scores = cross_val_score(clf, X, y, cv=i, error_score='raise')\n",
    "    # Imprimimos la puntuación de precisión para cada pliegue\n",
    "    print(\"Precisión de cada pliegue: {}\".format(scores))\n",
    "    print(\"Precisión promedio: {:.2f}\".format(np.mean(scores)))\n",
    "    # Entrenamos el clasificador con los datos de entrenamiento\n",
    "    clf.fit(X_train, y_train)\n",
    "    # Hacemos predicciones sobre los datos de prueba\n",
    "    y_pred = clf.predict(X_test)\n",
    "    # Imprimimos la matriz de confusión\n",
    "    cm = confusion_matrix(y_test, y_pred)\n",
    "    # Calculamos algunas métricas de evaluación\n",
    "    accuracy = accuracy_score(y_test, y_pred)\n",
    "    precision = precision_score(y_test, y_pred, average='weighted')\n",
    "    recall = recall_score(y_test, y_pred, average='weighted')\n",
    "    f1 = f1_score(y_test, y_pred, average='weighted')\n",
    "    # Imprimimos las métricas de evaluación\n",
    "    print(\"Exactitud: {:.2f}\".format(accuracy))\n",
    "    print(\"Precisión: {:.2f}\".format(precision))\n",
    "    print(\"Sensibilidad: {:.2f}\".format(recall))\n",
    "    print(\"Puntuación F1: {:.2f}\".format(f1))\n",
    "    print(\"--------------------------------------\")"
   ]
  },
  {
   "cell_type": "code",
   "execution_count": 26,
   "id": "d1ca4430",
   "metadata": {},
   "outputs": [
    {
     "name": "stdout",
     "output_type": "stream",
     "text": [
      "Analisis;\n",
      "------------------------------------\n",
      "La profundidad que mejor se adaptó fue de grado 8.     Se observa que la precision promedio del modelo cruzado fue     del 0.79, ligeramente mejor que los otros modelos.\n"
     ]
    }
   ],
   "source": [
    "print(\"Analisis;\")\n",
    "print(\"------------------------------------\")\n",
    "print(\"La profundidad que mejor se adaptó fue de grado 8. \\\n",
    "    Se observa que la precision promedio del modelo cruzado fue \\\n",
    "    del 0.79, ligeramente mejor que los otros modelos.\")"
   ]
  },
  {
   "cell_type": "markdown",
   "id": "97d0f801",
   "metadata": {},
   "source": [
    "### Inciso 12\n",
    "Repita los análisis usando random forest como algoritmo de predicción, explique sus resultados comparando ambos algoritmos."
   ]
  },
  {
   "cell_type": "code",
   "execution_count": 27,
   "id": "6ec39f41",
   "metadata": {},
   "outputs": [],
   "source": [
    "# Dividir en conjunto de entrenamiento y prueba\n",
    "X = numericas.drop([\"SalePrice\", \"Clase\"], axis=1).fillna(0)\n",
    "y = numericas[\"Clase\"]\n",
    "# Convertir las etiquetas de texto en valores numéricos\n",
    "label_encoder = LabelEncoder()\n",
    "y_encoded = label_encoder.fit_transform(y)"
   ]
  },
  {
   "cell_type": "code",
   "execution_count": 28,
   "id": "a25eeaf9",
   "metadata": {},
   "outputs": [
    {
     "data": {
      "text/html": [
       "<div>\n",
       "<style scoped>\n",
       "    .dataframe tbody tr th:only-of-type {\n",
       "        vertical-align: middle;\n",
       "    }\n",
       "\n",
       "    .dataframe tbody tr th {\n",
       "        vertical-align: top;\n",
       "    }\n",
       "\n",
       "    .dataframe thead th {\n",
       "        text-align: right;\n",
       "    }\n",
       "</style>\n",
       "<table border=\"1\" class=\"dataframe\">\n",
       "  <thead>\n",
       "    <tr style=\"text-align: right;\">\n",
       "      <th></th>\n",
       "      <th>LotFrontage</th>\n",
       "      <th>LotArea</th>\n",
       "      <th>OverallQual</th>\n",
       "      <th>OverallCond</th>\n",
       "      <th>YearBuilt</th>\n",
       "      <th>YearRemodAdd</th>\n",
       "      <th>MasVnrArea</th>\n",
       "      <th>BsmtFinSF1</th>\n",
       "      <th>BsmtFinSF2</th>\n",
       "      <th>BsmtUnfSF</th>\n",
       "      <th>...</th>\n",
       "      <th>BsmtHalfBath</th>\n",
       "      <th>FullBath</th>\n",
       "      <th>HalfBath</th>\n",
       "      <th>BedroomAbvGr</th>\n",
       "      <th>KitchenAbvGr</th>\n",
       "      <th>TotRmsAbvGrd</th>\n",
       "      <th>GarageCars</th>\n",
       "      <th>GarageArea</th>\n",
       "      <th>PoolArea</th>\n",
       "      <th>MiscVal</th>\n",
       "    </tr>\n",
       "  </thead>\n",
       "  <tbody>\n",
       "    <tr>\n",
       "      <th>0</th>\n",
       "      <td>65.0</td>\n",
       "      <td>8450</td>\n",
       "      <td>7</td>\n",
       "      <td>5</td>\n",
       "      <td>2003</td>\n",
       "      <td>2003</td>\n",
       "      <td>196.0</td>\n",
       "      <td>706</td>\n",
       "      <td>0</td>\n",
       "      <td>150</td>\n",
       "      <td>...</td>\n",
       "      <td>0</td>\n",
       "      <td>2</td>\n",
       "      <td>1</td>\n",
       "      <td>3</td>\n",
       "      <td>1</td>\n",
       "      <td>8</td>\n",
       "      <td>2</td>\n",
       "      <td>548</td>\n",
       "      <td>0</td>\n",
       "      <td>0</td>\n",
       "    </tr>\n",
       "    <tr>\n",
       "      <th>1</th>\n",
       "      <td>80.0</td>\n",
       "      <td>9600</td>\n",
       "      <td>6</td>\n",
       "      <td>8</td>\n",
       "      <td>1976</td>\n",
       "      <td>1976</td>\n",
       "      <td>0.0</td>\n",
       "      <td>978</td>\n",
       "      <td>0</td>\n",
       "      <td>284</td>\n",
       "      <td>...</td>\n",
       "      <td>1</td>\n",
       "      <td>2</td>\n",
       "      <td>0</td>\n",
       "      <td>3</td>\n",
       "      <td>1</td>\n",
       "      <td>6</td>\n",
       "      <td>2</td>\n",
       "      <td>460</td>\n",
       "      <td>0</td>\n",
       "      <td>0</td>\n",
       "    </tr>\n",
       "    <tr>\n",
       "      <th>2</th>\n",
       "      <td>68.0</td>\n",
       "      <td>11250</td>\n",
       "      <td>7</td>\n",
       "      <td>5</td>\n",
       "      <td>2001</td>\n",
       "      <td>2002</td>\n",
       "      <td>162.0</td>\n",
       "      <td>486</td>\n",
       "      <td>0</td>\n",
       "      <td>434</td>\n",
       "      <td>...</td>\n",
       "      <td>0</td>\n",
       "      <td>2</td>\n",
       "      <td>1</td>\n",
       "      <td>3</td>\n",
       "      <td>1</td>\n",
       "      <td>6</td>\n",
       "      <td>2</td>\n",
       "      <td>608</td>\n",
       "      <td>0</td>\n",
       "      <td>0</td>\n",
       "    </tr>\n",
       "    <tr>\n",
       "      <th>3</th>\n",
       "      <td>60.0</td>\n",
       "      <td>9550</td>\n",
       "      <td>7</td>\n",
       "      <td>5</td>\n",
       "      <td>1915</td>\n",
       "      <td>1970</td>\n",
       "      <td>0.0</td>\n",
       "      <td>216</td>\n",
       "      <td>0</td>\n",
       "      <td>540</td>\n",
       "      <td>...</td>\n",
       "      <td>0</td>\n",
       "      <td>1</td>\n",
       "      <td>0</td>\n",
       "      <td>3</td>\n",
       "      <td>1</td>\n",
       "      <td>7</td>\n",
       "      <td>3</td>\n",
       "      <td>642</td>\n",
       "      <td>0</td>\n",
       "      <td>0</td>\n",
       "    </tr>\n",
       "    <tr>\n",
       "      <th>4</th>\n",
       "      <td>84.0</td>\n",
       "      <td>14260</td>\n",
       "      <td>8</td>\n",
       "      <td>5</td>\n",
       "      <td>2000</td>\n",
       "      <td>2000</td>\n",
       "      <td>350.0</td>\n",
       "      <td>655</td>\n",
       "      <td>0</td>\n",
       "      <td>490</td>\n",
       "      <td>...</td>\n",
       "      <td>0</td>\n",
       "      <td>2</td>\n",
       "      <td>1</td>\n",
       "      <td>4</td>\n",
       "      <td>1</td>\n",
       "      <td>9</td>\n",
       "      <td>3</td>\n",
       "      <td>836</td>\n",
       "      <td>0</td>\n",
       "      <td>0</td>\n",
       "    </tr>\n",
       "    <tr>\n",
       "      <th>...</th>\n",
       "      <td>...</td>\n",
       "      <td>...</td>\n",
       "      <td>...</td>\n",
       "      <td>...</td>\n",
       "      <td>...</td>\n",
       "      <td>...</td>\n",
       "      <td>...</td>\n",
       "      <td>...</td>\n",
       "      <td>...</td>\n",
       "      <td>...</td>\n",
       "      <td>...</td>\n",
       "      <td>...</td>\n",
       "      <td>...</td>\n",
       "      <td>...</td>\n",
       "      <td>...</td>\n",
       "      <td>...</td>\n",
       "      <td>...</td>\n",
       "      <td>...</td>\n",
       "      <td>...</td>\n",
       "      <td>...</td>\n",
       "      <td>...</td>\n",
       "    </tr>\n",
       "    <tr>\n",
       "      <th>1455</th>\n",
       "      <td>62.0</td>\n",
       "      <td>7917</td>\n",
       "      <td>6</td>\n",
       "      <td>5</td>\n",
       "      <td>1999</td>\n",
       "      <td>2000</td>\n",
       "      <td>0.0</td>\n",
       "      <td>0</td>\n",
       "      <td>0</td>\n",
       "      <td>953</td>\n",
       "      <td>...</td>\n",
       "      <td>0</td>\n",
       "      <td>2</td>\n",
       "      <td>1</td>\n",
       "      <td>3</td>\n",
       "      <td>1</td>\n",
       "      <td>7</td>\n",
       "      <td>2</td>\n",
       "      <td>460</td>\n",
       "      <td>0</td>\n",
       "      <td>0</td>\n",
       "    </tr>\n",
       "    <tr>\n",
       "      <th>1456</th>\n",
       "      <td>85.0</td>\n",
       "      <td>13175</td>\n",
       "      <td>6</td>\n",
       "      <td>6</td>\n",
       "      <td>1978</td>\n",
       "      <td>1988</td>\n",
       "      <td>119.0</td>\n",
       "      <td>790</td>\n",
       "      <td>163</td>\n",
       "      <td>589</td>\n",
       "      <td>...</td>\n",
       "      <td>0</td>\n",
       "      <td>2</td>\n",
       "      <td>0</td>\n",
       "      <td>3</td>\n",
       "      <td>1</td>\n",
       "      <td>7</td>\n",
       "      <td>2</td>\n",
       "      <td>500</td>\n",
       "      <td>0</td>\n",
       "      <td>0</td>\n",
       "    </tr>\n",
       "    <tr>\n",
       "      <th>1457</th>\n",
       "      <td>66.0</td>\n",
       "      <td>9042</td>\n",
       "      <td>7</td>\n",
       "      <td>9</td>\n",
       "      <td>1941</td>\n",
       "      <td>2006</td>\n",
       "      <td>0.0</td>\n",
       "      <td>275</td>\n",
       "      <td>0</td>\n",
       "      <td>877</td>\n",
       "      <td>...</td>\n",
       "      <td>0</td>\n",
       "      <td>2</td>\n",
       "      <td>0</td>\n",
       "      <td>4</td>\n",
       "      <td>1</td>\n",
       "      <td>9</td>\n",
       "      <td>1</td>\n",
       "      <td>252</td>\n",
       "      <td>0</td>\n",
       "      <td>2500</td>\n",
       "    </tr>\n",
       "    <tr>\n",
       "      <th>1458</th>\n",
       "      <td>68.0</td>\n",
       "      <td>9717</td>\n",
       "      <td>5</td>\n",
       "      <td>6</td>\n",
       "      <td>1950</td>\n",
       "      <td>1996</td>\n",
       "      <td>0.0</td>\n",
       "      <td>49</td>\n",
       "      <td>1029</td>\n",
       "      <td>0</td>\n",
       "      <td>...</td>\n",
       "      <td>0</td>\n",
       "      <td>1</td>\n",
       "      <td>0</td>\n",
       "      <td>2</td>\n",
       "      <td>1</td>\n",
       "      <td>5</td>\n",
       "      <td>1</td>\n",
       "      <td>240</td>\n",
       "      <td>0</td>\n",
       "      <td>0</td>\n",
       "    </tr>\n",
       "    <tr>\n",
       "      <th>1459</th>\n",
       "      <td>75.0</td>\n",
       "      <td>9937</td>\n",
       "      <td>5</td>\n",
       "      <td>6</td>\n",
       "      <td>1965</td>\n",
       "      <td>1965</td>\n",
       "      <td>0.0</td>\n",
       "      <td>830</td>\n",
       "      <td>290</td>\n",
       "      <td>136</td>\n",
       "      <td>...</td>\n",
       "      <td>0</td>\n",
       "      <td>1</td>\n",
       "      <td>1</td>\n",
       "      <td>3</td>\n",
       "      <td>1</td>\n",
       "      <td>6</td>\n",
       "      <td>1</td>\n",
       "      <td>276</td>\n",
       "      <td>0</td>\n",
       "      <td>0</td>\n",
       "    </tr>\n",
       "  </tbody>\n",
       "</table>\n",
       "<p>1460 rows × 26 columns</p>\n",
       "</div>"
      ],
      "text/plain": [
       "      LotFrontage  LotArea  OverallQual  OverallCond  YearBuilt  YearRemodAdd  \\\n",
       "0            65.0     8450            7            5       2003          2003   \n",
       "1            80.0     9600            6            8       1976          1976   \n",
       "2            68.0    11250            7            5       2001          2002   \n",
       "3            60.0     9550            7            5       1915          1970   \n",
       "4            84.0    14260            8            5       2000          2000   \n",
       "...           ...      ...          ...          ...        ...           ...   \n",
       "1455         62.0     7917            6            5       1999          2000   \n",
       "1456         85.0    13175            6            6       1978          1988   \n",
       "1457         66.0     9042            7            9       1941          2006   \n",
       "1458         68.0     9717            5            6       1950          1996   \n",
       "1459         75.0     9937            5            6       1965          1965   \n",
       "\n",
       "      MasVnrArea  BsmtFinSF1  BsmtFinSF2  BsmtUnfSF  ...  BsmtHalfBath  \\\n",
       "0          196.0         706           0        150  ...             0   \n",
       "1            0.0         978           0        284  ...             1   \n",
       "2          162.0         486           0        434  ...             0   \n",
       "3            0.0         216           0        540  ...             0   \n",
       "4          350.0         655           0        490  ...             0   \n",
       "...          ...         ...         ...        ...  ...           ...   \n",
       "1455         0.0           0           0        953  ...             0   \n",
       "1456       119.0         790         163        589  ...             0   \n",
       "1457         0.0         275           0        877  ...             0   \n",
       "1458         0.0          49        1029          0  ...             0   \n",
       "1459         0.0         830         290        136  ...             0   \n",
       "\n",
       "      FullBath  HalfBath  BedroomAbvGr  KitchenAbvGr  TotRmsAbvGrd  \\\n",
       "0            2         1             3             1             8   \n",
       "1            2         0             3             1             6   \n",
       "2            2         1             3             1             6   \n",
       "3            1         0             3             1             7   \n",
       "4            2         1             4             1             9   \n",
       "...        ...       ...           ...           ...           ...   \n",
       "1455         2         1             3             1             7   \n",
       "1456         2         0             3             1             7   \n",
       "1457         2         0             4             1             9   \n",
       "1458         1         0             2             1             5   \n",
       "1459         1         1             3             1             6   \n",
       "\n",
       "      GarageCars  GarageArea  PoolArea  MiscVal  \n",
       "0              2         548         0        0  \n",
       "1              2         460         0        0  \n",
       "2              2         608         0        0  \n",
       "3              3         642         0        0  \n",
       "4              3         836         0        0  \n",
       "...          ...         ...       ...      ...  \n",
       "1455           2         460         0        0  \n",
       "1456           2         500         0        0  \n",
       "1457           1         252         0     2500  \n",
       "1458           1         240         0        0  \n",
       "1459           1         276         0        0  \n",
       "\n",
       "[1460 rows x 26 columns]"
      ]
     },
     "execution_count": 28,
     "metadata": {},
     "output_type": "execute_result"
    }
   ],
   "source": [
    "X"
   ]
  },
  {
   "cell_type": "code",
   "execution_count": 29,
   "id": "3aae17e0",
   "metadata": {},
   "outputs": [
    {
     "data": {
      "text/plain": [
       "0             Caras\n",
       "1       Intermedias\n",
       "2             Caras\n",
       "3       Intermedias\n",
       "4             Caras\n",
       "           ...     \n",
       "1455    Intermedias\n",
       "1456          Caras\n",
       "1457          Caras\n",
       "1458    Intermedias\n",
       "1459    Intermedias\n",
       "Name: Clase, Length: 1460, dtype: category\n",
       "Categories (3, object): ['Económicas' < 'Intermedias' < 'Caras']"
      ]
     },
     "execution_count": 29,
     "metadata": {},
     "output_type": "execute_result"
    }
   ],
   "source": [
    "y"
   ]
  },
  {
   "cell_type": "code",
   "execution_count": 30,
   "id": "b73d8189",
   "metadata": {},
   "outputs": [
    {
     "data": {
      "text/plain": [
       "array([0, 2, 0, ..., 0, 2, 2])"
      ]
     },
     "execution_count": 30,
     "metadata": {},
     "output_type": "execute_result"
    }
   ],
   "source": [
    "y_encoded"
   ]
  },
  {
   "cell_type": "code",
   "execution_count": 31,
   "id": "da71e9ae",
   "metadata": {},
   "outputs": [],
   "source": [
    "X_train, X_test, y_train, y_test = train_test_split(X, y_encoded, test_size=0.3, train_size=0.7)"
   ]
  },
  {
   "cell_type": "code",
   "execution_count": 32,
   "id": "0cdf7a0f",
   "metadata": {},
   "outputs": [],
   "source": [
    "# Creamos una instancia del modelo de Random Forest, y usamos el conjunto de entrenamiento para entrenarlo.\n",
    "model = RandomForestRegressor(n_estimators=100, random_state=42)"
   ]
  },
  {
   "cell_type": "code",
   "execution_count": 33,
   "id": "b14628f5",
   "metadata": {},
   "outputs": [
    {
     "data": {
      "text/html": [
       "<style>#sk-container-id-1 {color: black;background-color: white;}#sk-container-id-1 pre{padding: 0;}#sk-container-id-1 div.sk-toggleable {background-color: white;}#sk-container-id-1 label.sk-toggleable__label {cursor: pointer;display: block;width: 100%;margin-bottom: 0;padding: 0.3em;box-sizing: border-box;text-align: center;}#sk-container-id-1 label.sk-toggleable__label-arrow:before {content: \"▸\";float: left;margin-right: 0.25em;color: #696969;}#sk-container-id-1 label.sk-toggleable__label-arrow:hover:before {color: black;}#sk-container-id-1 div.sk-estimator:hover label.sk-toggleable__label-arrow:before {color: black;}#sk-container-id-1 div.sk-toggleable__content {max-height: 0;max-width: 0;overflow: hidden;text-align: left;background-color: #f0f8ff;}#sk-container-id-1 div.sk-toggleable__content pre {margin: 0.2em;color: black;border-radius: 0.25em;background-color: #f0f8ff;}#sk-container-id-1 input.sk-toggleable__control:checked~div.sk-toggleable__content {max-height: 200px;max-width: 100%;overflow: auto;}#sk-container-id-1 input.sk-toggleable__control:checked~label.sk-toggleable__label-arrow:before {content: \"▾\";}#sk-container-id-1 div.sk-estimator input.sk-toggleable__control:checked~label.sk-toggleable__label {background-color: #d4ebff;}#sk-container-id-1 div.sk-label input.sk-toggleable__control:checked~label.sk-toggleable__label {background-color: #d4ebff;}#sk-container-id-1 input.sk-hidden--visually {border: 0;clip: rect(1px 1px 1px 1px);clip: rect(1px, 1px, 1px, 1px);height: 1px;margin: -1px;overflow: hidden;padding: 0;position: absolute;width: 1px;}#sk-container-id-1 div.sk-estimator {font-family: monospace;background-color: #f0f8ff;border: 1px dotted black;border-radius: 0.25em;box-sizing: border-box;margin-bottom: 0.5em;}#sk-container-id-1 div.sk-estimator:hover {background-color: #d4ebff;}#sk-container-id-1 div.sk-parallel-item::after {content: \"\";width: 100%;border-bottom: 1px solid gray;flex-grow: 1;}#sk-container-id-1 div.sk-label:hover label.sk-toggleable__label {background-color: #d4ebff;}#sk-container-id-1 div.sk-serial::before {content: \"\";position: absolute;border-left: 1px solid gray;box-sizing: border-box;top: 0;bottom: 0;left: 50%;z-index: 0;}#sk-container-id-1 div.sk-serial {display: flex;flex-direction: column;align-items: center;background-color: white;padding-right: 0.2em;padding-left: 0.2em;position: relative;}#sk-container-id-1 div.sk-item {position: relative;z-index: 1;}#sk-container-id-1 div.sk-parallel {display: flex;align-items: stretch;justify-content: center;background-color: white;position: relative;}#sk-container-id-1 div.sk-item::before, #sk-container-id-1 div.sk-parallel-item::before {content: \"\";position: absolute;border-left: 1px solid gray;box-sizing: border-box;top: 0;bottom: 0;left: 50%;z-index: -1;}#sk-container-id-1 div.sk-parallel-item {display: flex;flex-direction: column;z-index: 1;position: relative;background-color: white;}#sk-container-id-1 div.sk-parallel-item:first-child::after {align-self: flex-end;width: 50%;}#sk-container-id-1 div.sk-parallel-item:last-child::after {align-self: flex-start;width: 50%;}#sk-container-id-1 div.sk-parallel-item:only-child::after {width: 0;}#sk-container-id-1 div.sk-dashed-wrapped {border: 1px dashed gray;margin: 0 0.4em 0.5em 0.4em;box-sizing: border-box;padding-bottom: 0.4em;background-color: white;}#sk-container-id-1 div.sk-label label {font-family: monospace;font-weight: bold;display: inline-block;line-height: 1.2em;}#sk-container-id-1 div.sk-label-container {text-align: center;}#sk-container-id-1 div.sk-container {/* jupyter's `normalize.less` sets `[hidden] { display: none; }` but bootstrap.min.css set `[hidden] { display: none !important; }` so we also need the `!important` here to be able to override the default hidden behavior on the sphinx rendered scikit-learn.org. See: https://github.com/scikit-learn/scikit-learn/issues/21755 */display: inline-block !important;position: relative;}#sk-container-id-1 div.sk-text-repr-fallback {display: none;}</style><div id=\"sk-container-id-1\" class=\"sk-top-container\"><div class=\"sk-text-repr-fallback\"><pre>RandomForestRegressor(random_state=42)</pre><b>In a Jupyter environment, please rerun this cell to show the HTML representation or trust the notebook. <br />On GitHub, the HTML representation is unable to render, please try loading this page with nbviewer.org.</b></div><div class=\"sk-container\" hidden><div class=\"sk-item\"><div class=\"sk-estimator sk-toggleable\"><input class=\"sk-toggleable__control sk-hidden--visually\" id=\"sk-estimator-id-1\" type=\"checkbox\" checked><label for=\"sk-estimator-id-1\" class=\"sk-toggleable__label sk-toggleable__label-arrow\">RandomForestRegressor</label><div class=\"sk-toggleable__content\"><pre>RandomForestRegressor(random_state=42)</pre></div></div></div></div></div>"
      ],
      "text/plain": [
       "RandomForestRegressor(random_state=42)"
      ]
     },
     "execution_count": 33,
     "metadata": {},
     "output_type": "execute_result"
    }
   ],
   "source": [
    "model.fit(X_train, y_train)"
   ]
  },
  {
   "cell_type": "code",
   "execution_count": 34,
   "id": "e8752fff",
   "metadata": {},
   "outputs": [],
   "source": [
    "# Usar el modelo entrenado para realizar las predicciones en el conjunto de prueba.\n",
    "predictions = model.predict(X_test)"
   ]
  },
  {
   "cell_type": "code",
   "execution_count": 35,
   "id": "ce3a4a6d",
   "metadata": {},
   "outputs": [
    {
     "name": "stdout",
     "output_type": "stream",
     "text": [
      "R2 score: 0.5823886921261826\n",
      "MSE: 0.285062100456621\n"
     ]
    }
   ],
   "source": [
    "# Evaluar el rendimiento del modelo usando las métricas de evaluación \n",
    "# adecuadas para el tipo de problema que se esta resolviendo.\n",
    "r_squared_score = r2(y_test, predictions)\n",
    "mse = mean_squared_error(y_test, predictions)\n",
    "print(f\"R2 score: {r_squared_score}\")\n",
    "print(f\"MSE: {mse}\")"
   ]
  },
  {
   "cell_type": "code",
   "execution_count": 36,
   "id": "d25fd0c9",
   "metadata": {},
   "outputs": [
    {
     "name": "stdout",
     "output_type": "stream",
     "text": [
      "Random forest es una tecnica de aprendizaje muy usada.     Su flexibilidad y uso permiten que pueda manejar tanto problemas     de clasificacion, como de regresion.     \n",
      " Al compararlo con otros modelos, se puede observar que no     rindio tan bien comparado con el modelo de validacion cruzada ni     como el arbol.     \n",
      " Se puede concluir que el mejor modelo implementado fue el de     validacion cruzada con una profundidad de 8 y 8 pliegues.\n"
     ]
    }
   ],
   "source": [
    "print(\"Random forest es una tecnica de aprendizaje muy usada. \\\n",
    "    Su flexibilidad y uso permiten que pueda manejar tanto problemas \\\n",
    "    de clasificacion, como de regresion. \\\n",
    "    \\n Al compararlo con otros modelos, se puede observar que no \\\n",
    "    rindio tan bien comparado con el modelo de validacion cruzada ni \\\n",
    "    como el arbol. \\\n",
    "    \\n Se puede concluir que el mejor modelo implementado fue el de \\\n",
    "    validacion cruzada con una profundidad de 8 y 8 pliegues.\")"
   ]
  },
  {
   "cell_type": "code",
   "execution_count": null,
   "id": "5b94c9d2",
   "metadata": {},
   "outputs": [],
   "source": []
  }
 ],
 "metadata": {
  "kernelspec": {
   "display_name": "Python 3 (ipykernel)",
   "language": "python",
   "name": "python3"
  },
  "language_info": {
   "codemirror_mode": {
    "name": "ipython",
    "version": 3
   },
   "file_extension": ".py",
   "mimetype": "text/x-python",
   "name": "python",
   "nbconvert_exporter": "python",
   "pygments_lexer": "ipython3",
   "version": "3.10.5"
  }
 },
 "nbformat": 4,
 "nbformat_minor": 5
}
